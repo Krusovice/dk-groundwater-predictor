{
 "cells": [
  {
   "cell_type": "code",
   "execution_count": 0,
   "metadata": {
    "application/vnd.databricks.v1+cell": {
     "cellMetadata": {
      "byteLimit": 2048000,
      "rowLimit": 10000
     },
     "inputWidgets": {},
     "nuid": "db384dcc-3e5a-4520-8b48-8654b1db1ad4",
     "showTitle": false,
     "tableResultSettingsMap": {},
     "title": ""
    }
   },
   "outputs": [],
   "source": [
    "import os\n",
    "import json\n",
    "import sys\n",
    "\n",
    "def detect_environment_name():\n",
    "  try:\n",
    "    if \"DATABRICKS_RUNTIME_VERSION\" in os.environ:\n",
    "      environment_name='databricks'\n",
    "    else:\n",
    "      environment_name = os.getenv('COMPUTERNAME')\n",
    "    print(f'Environment detected: {environment_name}')\n",
    "  except:\n",
    "    raise Exception(\"Environment not found... is the computername hardcoded into environments.json?\")\n",
    "  return environment_name\n",
    "\n",
    "def data_filepaths(envrionment_name, retry=False):\n",
    "  print('Getting filepaths...')\n",
    "  if envrionment_name == 'databricks':\n",
    "    print('Returning databricks filepaths...')\n",
    "    try:\n",
    "      path_bronze = \"dbfs:/mnt/bronze\"\n",
    "      path_silver = \"dbfs:/mnt/silver\"\n",
    "      path_gold = \"dbfs:/mnt/gold\"\n",
    "    except:\n",
    "      if not retry:\n",
    "        raise Exception(\"filepaths not found, trying to mount...\")\n",
    "        mount_azure_storage(client_id,tenant_id,client_secret)\n",
    "        return retry == True\n",
    "      else:\n",
    "        raise Exception(\"Mounts failed after retry. Exiting.\")\n",
    "  else:\n",
    "    try:\n",
    "      print('Returning local local environment filepaths...')\n",
    "\n",
    "      with open('environments.json', 'r') as f:\n",
    "        environments = json.load(f)\n",
    "\n",
    "      for key,value in environments.items():\n",
    "        if key == envrionment_name:\n",
    "          path_bronze = f'{value}//bronze'\n",
    "          path_silver = f'{value}//silver'\n",
    "          path_gold = f'{value}//gold'\n",
    "    except:\n",
    "      raise Exception(\"filepaths not found. Exiting.\")\n",
    "\n",
    "  return path_bronze, path_silver, path_gold\n",
    "\n",
    "def mount_azure_storage(client_id,tenant_id,client_secret):\n",
    "  try: \n",
    "    print('Mounting...')\n",
    "\n",
    "    configs = {\n",
    "      \"fs.azure.account.auth.type\": \"OAuth\",\n",
    "      \"fs.azure.account.oauth.provider.type\": \"org.apache.hadoop.fs.azurebfs.oauth2.ClientCredsTokenProvider\",\n",
    "      \"fs.azure.account.oauth2.client.id\": f\"{client_id}\",\n",
    "      \"fs.azure.account.oauth2.client.secret\": f\"{client_secret}\",\n",
    "      \"fs.azure.account.oauth2.client.endpoint\": f\"https://login.microsoftonline.com/{tenant_id}/oauth2/token\"\n",
    "    }\n",
    "\n",
    "    for i in ['bronze', 'silver', 'gold']:\n",
    "      dbutils.fs.mount(\n",
    "          source = f\"abfss://{i}@dmiclimatestorage.dfs.core.windows.net/\",\n",
    "          mount_point = f\"/mnt/{i}\",\n",
    "          extra_configs = configs\n",
    "      )\n",
    "      print('Mounted!')\n",
    "  except:\n",
    "    raise Exception(\"Mounting error\")\n",
    "\n",
    "\n",
    "      \n",
    "client_id = dbutils.secrets.get(scope = \"dmi-climate-scope\", key = \"dmi-climate-client-id\")\n",
    "tenant_id = dbutils.secrets.get(scope = \"dmi-climate-scope\", key = \"dmi-climate-tenant-id\")\n",
    "client_secret = dbutils.secrets.get(scope = \"dmi-climate-scope\", key = \"dmi-climate-secret\")\n",
    "\n",
    "environment_name = detect_environment_name()\n",
    "path_bronze, path_silver, path_gold = data_filepaths(environment_name, retry=False)\n",
    "\n",
    "\n",
    "\n",
    "\n",
    "  "
   ]
  },
  {
   "cell_type": "code",
   "execution_count": 0,
   "metadata": {
    "application/vnd.databricks.v1+cell": {
     "cellMetadata": {
      "byteLimit": 2048000,
      "rowLimit": 10000
     },
     "inputWidgets": {},
     "nuid": "81b053c6-907c-4bf2-9b38-fa92e23d9c16",
     "showTitle": false,
     "tableResultSettingsMap": {},
     "title": ""
    }
   },
   "outputs": [],
   "source": [
    "tjop"
   ]
  },
  {
   "cell_type": "code",
   "execution_count": 0,
   "metadata": {
    "application/vnd.databricks.v1+cell": {
     "cellMetadata": {},
     "inputWidgets": {},
     "nuid": "d9f61677-3b48-4d05-831e-a6fafaaf425f",
     "showTitle": false,
     "tableResultSettingsMap": {},
     "title": ""
    }
   },
   "outputs": [],
   "source": []
  }
 ],
 "metadata": {
  "application/vnd.databricks.v1+notebook": {
   "computePreferences": null,
   "dashboards": [],
   "environmentMetadata": {
    "base_environment": "",
    "environment_version": "2"
   },
   "language": "python",
   "notebookMetadata": {
    "mostRecentlyExecutedCommandWithImplicitDF": {
     "commandId": 447144877058466,
     "dataframes": [
      "_sqldf"
     ]
    },
    "pythonIndentUnit": 4
   },
   "notebookName": "folder mounting notebook",
   "widgets": {}
  },
  "language_info": {
   "name": "python"
  }
 },
 "nbformat": 4,
 "nbformat_minor": 0
}

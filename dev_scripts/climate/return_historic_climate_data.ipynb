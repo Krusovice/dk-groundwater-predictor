{
 "cells": [
  {
   "cell_type": "code",
   "execution_count": 0,
   "metadata": {
    "application/vnd.databricks.v1+cell": {
     "cellMetadata": {
      "byteLimit": 2048000,
      "rowLimit": 10000
     },
     "inputWidgets": {},
     "nuid": "32306677-4a2f-4d85-9d36-f7dd7792fd46",
     "showTitle": false,
     "tableResultSettingsMap": {},
     "title": ""
    }
   },
   "outputs": [],
   "source": [
    "from config.paths import SECRETS_FILE\n",
    "from src.utils.locate_filepaths import storage_filepaths\n",
    "import json\n",
    "from src.etl.climate.extract import extract_dmi_metObs\n",
    "from pyspark.sql.types import StructType, StructField, StringType, DoubleType\n",
    "from pyspark.sql.functions import current_timestamp, col\n",
    "from datetime import datetime, timezone\n",
    "\n",
    "\n",
    "dbutils.widgets.text(\"source\", \"\")\n",
    "source = dbutils.widgets.get(\"source\")\n",
    "print(f\"Notebook triggered by: {source}\")\n",
    "\n",
    "# Loading storage filepaths\n",
    "filepaths = storage_filepaths()\n",
    "\n",
    "# Loading dmi api key\n",
    "with open(SECRETS_FILE) as f:\n",
    "    secrets = json.load(f)\n",
    "\n",
    "# Schema for dmi-climate data\n",
    "schema = StructType([\n",
    "    StructField('created', StringType(), True),\n",
    "    StructField('observed', StringType(), True),\n",
    "    StructField('parameterId', StringType(), True),\n",
    "    StructField('stationId', StringType(), True),\n",
    "    StructField('value', DoubleType(), True)\n",
    "])\n",
    "\n",
    "df_climate_dmi = spark.createDataFrame([], schema)\n",
    "\n",
    "# Fetching data from dmi\n",
    "url = \"https://dmigw.govcloud.dk/v2/metObs/collections/observation/items\"\n",
    "parameterIds = [\"sun_last1h_glob\",\"temp_mean_past1h\",\"temp_soil_mean_past1h\",'precip_past1h']\n",
    "bbox=\"12.3,55.6,12.7,56.0\"\n",
    "period='latest-month'\n",
    "limit=100000\n",
    "secret_key=secrets[\"metObs-api-key\"]\n",
    "\n",
    "# Get today's date at midnight (UTC), formatting as ISO 8601 with 'Z' at the end\n",
    "today = datetime.now(timezone.utc).replace(hour=0, minute=0, second=0, microsecond=0)\n",
    "today = today.strftime('%Y-%m-%dT%H:%M:%SZ')\n",
    "today = f'../{today}'\n",
    "\n",
    "for i in parameterIds:    \n",
    "    data = extract_dmi_metObs(secret_key=secret_key, url=url, parameterId=i, bbox=bbox, datetime=today, limit=limit)\n",
    "    features = data.get('features')\n",
    "    records = [item['properties'] for item in features]\n",
    "    temp_df = spark.createDataFrame(records, schema)\n",
    "    df_climate_dmi = df_climate_dmi.union(temp_df)\n",
    "\n",
    "df_climate_dmi = df_climate_dmi.withColumn(\"ingestion_timestamp\", current_timestamp())\n",
    "df_climate_dmi.write.mode('overwrite').partitionBy(\"ingestion_timestamp\").parquet(f\"{filepaths['bronze']}/dmi_climate/daily_extract/\")"
   ]
  },
  {
   "cell_type": "code",
   "execution_count": 0,
   "metadata": {
    "application/vnd.databricks.v1+cell": {
     "cellMetadata": {
      "byteLimit": 2048000,
      "rowLimit": 10000
     },
     "inputWidgets": {},
     "nuid": "7cda5219-4b87-44ef-896f-b386351a78a3",
     "showTitle": false,
     "tableResultSettingsMap": {},
     "title": ""
    }
   },
   "outputs": [],
   "source": [
    "df_climate_dmi.count()"
   ]
  },
  {
   "cell_type": "code",
   "execution_count": 0,
   "metadata": {
    "application/vnd.databricks.v1+cell": {
     "cellMetadata": {
      "byteLimit": 2048000,
      "rowLimit": 10000
     },
     "inputWidgets": {},
     "nuid": "4c6f118e-d75e-4540-a10c-ffa8b160d330",
     "showTitle": false,
     "tableResultSettingsMap": {},
     "title": ""
    }
   },
   "outputs": [],
   "source": [
    "from pyspark.sql.functions import col\n",
    "df_climate_dmi.orderBy(col(\"observed\").asc()).show()"
   ]
  }
 ],
 "metadata": {
  "application/vnd.databricks.v1+notebook": {
   "computePreferences": null,
   "dashboards": [],
   "environmentMetadata": {
    "base_environment": "",
    "environment_version": "2"
   },
   "inputWidgetPreferences": null,
   "language": "python",
   "notebookMetadata": {
    "pythonIndentUnit": 4
   },
   "notebookName": "return_historic_climate_data",
   "widgets": {
    "source": {
     "currentValue": "",
     "nuid": "c4827273-6b0b-447e-8dc4-44e3feb7d866",
     "typedWidgetInfo": {
      "autoCreated": false,
      "defaultValue": "",
      "label": null,
      "name": "source",
      "options": {
       "widgetDisplayType": "Text",
       "validationRegex": null
      },
      "parameterDataType": "String"
     },
     "widgetInfo": {
      "widgetType": "text",
      "defaultValue": "",
      "label": null,
      "name": "source",
      "options": {
       "widgetType": "text",
       "autoCreated": null,
       "validationRegex": null
      }
     }
    }
   }
  },
  "language_info": {
   "name": "python"
  }
 },
 "nbformat": 4,
 "nbformat_minor": 0
}

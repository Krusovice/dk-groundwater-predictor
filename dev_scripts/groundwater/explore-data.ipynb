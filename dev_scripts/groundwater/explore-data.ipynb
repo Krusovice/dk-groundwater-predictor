{
 "cells": [
  {
   "cell_type": "code",
   "execution_count": 0,
   "metadata": {
    "application/vnd.databricks.v1+cell": {
     "cellMetadata": {
      "byteLimit": 2048000,
      "rowLimit": 10000
     },
     "inputWidgets": {},
     "nuid": "68d36676-9026-43f7-a2e5-86618fddf143",
     "showTitle": false,
     "tableResultSettingsMap": {},
     "title": ""
    }
   },
   "outputs": [],
   "source": [
    "from shared.utils.locate_filepaths import storage_filepaths\n",
    "paths = storage_filepaths()"
   ]
  },
  {
   "cell_type": "code",
   "execution_count": 0,
   "metadata": {
    "application/vnd.databricks.v1+cell": {
     "cellMetadata": {
      "byteLimit": 2048000,
      "rowLimit": 10000
     },
     "inputWidgets": {},
     "nuid": "5d8a12b8-59a7-4201-b874-9509ccf663ca",
     "showTitle": false,
     "tableResultSettingsMap": {},
     "title": ""
    }
   },
   "outputs": [],
   "source": [
    "paths['bronze']"
   ]
  },
  {
   "cell_type": "code",
   "execution_count": 0,
   "metadata": {
    "application/vnd.databricks.v1+cell": {
     "cellMetadata": {
      "byteLimit": 2048000,
      "rowLimit": 10000
     },
     "inputWidgets": {},
     "nuid": "28503c91-4444-4bf6-a05b-a16842667929",
     "showTitle": false,
     "tableResultSettingsMap": {},
     "title": ""
    }
   },
   "outputs": [],
   "source": [
    "import pandas as pd\n",
    "import glob\n",
    "files = dbutils.fs.ls(\"/mnt/bronze/geus_groundwater/\")\n",
    "groundwater_files = [i.path for i in files if i.path.endswith('.csv')]\n",
    "\n",
    "def test_file(file):\n",
    "    try:\n",
    "        df = spark.read.option('header',True).csv(file)\n",
    "        pdf = df.toPandas()\n",
    "        pdf[\"date\"] = pd.to_datetime(pdf[\"Dato\"])\n",
    "        pdf.sort_values(\"date\", inplace=True)\n",
    "        pdf[\"Indtag 1\"] = pdf[\"Indtag 1\"].astype(float)\n",
    "        if (pdf[\"Indtag 1\"] > 1000).any():\n",
    "            print(file)\n",
    "        else:\n",
    "            print('ok')\n",
    "    except:\n",
    "        print(f'error on file: {file}')\n",
    "\n",
    "for i in groundwater_files:\n",
    "    test_file(i)\n",
    "\n"
   ]
  },
  {
   "cell_type": "code",
   "execution_count": 0,
   "metadata": {
    "application/vnd.databricks.v1+cell": {
     "cellMetadata": {
      "byteLimit": 2048000,
      "rowLimit": 10000
     },
     "inputWidgets": {},
     "nuid": "4f8f6875-f5e9-4ac6-ad94-116d638d7aaf",
     "showTitle": false,
     "tableResultSettingsMap": {},
     "title": ""
    }
   },
   "outputs": [],
   "source": [
    "def plot_file(file):\n",
    "    df = spark.read.option(\"header\", True).csv(file)\n",
    "    pdf = df.toPandas()\n",
    "    pdf[\"date\"] = pd.to_datetime(pdf[\"Dato\"])\n",
    "    pdf.sort_values(\"date\", inplace=True)\n",
    "    pdf[\"Indtag 1\"] = pdf[\"Indtag 1\"].astype(float)\n",
    "    pdf.plot(x=\"date\", y=\"Indtag 1\", title=\"Groundwater Level Over Time\", figsize=(12, 6))\n",
    "    print(len(pdf))\n",
    "\n",
    "file = \"dbfs:/mnt/bronze/geus_groundwater/grundvandsstand_194.66.csv\"\n",
    "plot_file(file)"
   ]
  }
 ],
 "metadata": {
  "application/vnd.databricks.v1+notebook": {
   "computePreferences": null,
   "dashboards": [],
   "environmentMetadata": {
    "base_environment": "",
    "environment_version": "2"
   },
   "inputWidgetPreferences": null,
   "language": "python",
   "notebookMetadata": {
    "mostRecentlyExecutedCommandWithImplicitDF": {
     "commandId": 15614714172540,
     "dataframes": [
      "_sqldf"
     ]
    },
    "pythonIndentUnit": 4
   },
   "notebookName": "explore-data",
   "widgets": {}
  },
  "language_info": {
   "name": "python"
  }
 },
 "nbformat": 4,
 "nbformat_minor": 0
}

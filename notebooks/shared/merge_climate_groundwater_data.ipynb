{
 "cells": [
  {
   "cell_type": "code",
   "execution_count": 0,
   "metadata": {
    "application/vnd.databricks.v1+cell": {
     "cellMetadata": {
      "byteLimit": 2048000,
      "rowLimit": 10000
     },
     "inputWidgets": {},
     "nuid": "a2ebbac1-69ca-4797-9bb1-d3ca47d2205b",
     "showTitle": false,
     "tableResultSettingsMap": {},
     "title": ""
    }
   },
   "outputs": [],
   "source": [
    "from src.utils.locate_filepaths import storage_filepaths\n",
    "from pyspark.sql.functions import to_date, col, avg\n",
    "paths = storage_filepaths()\n",
    "\n",
    "dbutils.fs.ls(f\"{paths['silver']}\")\n",
    "df_groundwater = spark.read.format(\"delta\").load(f\"{paths['silver']}/geus_groundwater\")\n",
    "\n",
    "df_groundwater = df_groundwater.withColumn('observed_date', to_date(col(\"datetime\")))\n",
    "df_groundwater = df_groundwater.groupBy('observed_date','station_id','station_name').agg(avg(\"waterlevel\").alias(\"daily_avg_waterlevel\"))\n",
    "\n",
    "display(df_groundwater.orderBy(df_groundwater.observed_date.desc()).limit(10))\n",
    "\n"
   ]
  },
  {
   "cell_type": "code",
   "execution_count": 0,
   "metadata": {
    "application/vnd.databricks.v1+cell": {
     "cellMetadata": {
      "byteLimit": 2048000,
      "rowLimit": 10000
     },
     "inputWidgets": {},
     "nuid": "8859c6a5-a98f-4d55-9305-a2d1eb224e80",
     "showTitle": false,
     "tableResultSettingsMap": {},
     "title": ""
    }
   },
   "outputs": [],
   "source": [
    "df_climate = spark.read.format(\"delta\").load(f\"{paths['silver']}/dmi_climate_data\")\n",
    "df_climate = df_climate.groupBy('observed_date','stationId').agg(avg('sun_last1h_glob'),avg('temp_mean_past1h'),avg('temp_soil_mean_past1h'))\n",
    "\n",
    "display(df_climate.orderBy(df_climate.observed_date.desc()).limit(10))"
   ]
  }
 ],
 "metadata": {
  "application/vnd.databricks.v1+notebook": {
   "computePreferences": null,
   "dashboards": [],
   "environmentMetadata": {
    "base_environment": "",
    "environment_version": "2"
   },
   "inputWidgetPreferences": null,
   "language": "python",
   "notebookMetadata": {
    "pythonIndentUnit": 4
   },
   "notebookName": "merge_climate_groundwater_data",
   "widgets": {}
  },
  "language_info": {
   "name": "python"
  }
 },
 "nbformat": 4,
 "nbformat_minor": 0
}

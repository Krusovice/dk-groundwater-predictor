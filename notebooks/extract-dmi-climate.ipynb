{
 "cells": [
  {
   "cell_type": "code",
   "execution_count": 0,
   "metadata": {
    "application/vnd.databricks.v1+cell": {
     "cellMetadata": {
      "byteLimit": 2048000,
      "rowLimit": 10000
     },
     "inputWidgets": {},
     "nuid": "52772e26-e946-45f3-b26f-264fa43b9be1",
     "showTitle": false,
     "tableResultSettingsMap": {},
     "title": ""
    }
   },
   "outputs": [],
   "source": [
    "from dmi_climate.paths import SECRETS_FILE, BRONZE_DIR\n",
    "import json\n",
    "from dmi_climate.extract_functions import extract_dmi_metObs\n",
    "from pyspark.sql.types import StructType, StructField, StringType, DoubleType\n",
    "from pyspark.sql.functions import current_timestamp"
   ]
  },
  {
   "cell_type": "code",
   "execution_count": 0,
   "metadata": {
    "application/vnd.databricks.v1+cell": {
     "cellMetadata": {
      "byteLimit": 2048000,
      "rowLimit": 10000
     },
     "inputWidgets": {},
     "nuid": "9888a6ae-6136-4abe-a0cf-97ba89bec01a",
     "showTitle": false,
     "tableResultSettingsMap": {},
     "title": ""
    }
   },
   "outputs": [],
   "source": [
    "# Loading dmi api key\n",
    "with open(SECRETS_FILE) as f:\n",
    "    secrets = json.load(f)\n",
    "\n",
    "# Schema for dmi-climate data\n",
    "schema = StructType([\n",
    "    StructField('created', StringType(), True),\n",
    "    StructField('observed', StringType(), True),\n",
    "    StructField('parameterId', StringType(), True),\n",
    "    StructField('stationId', StringType(), True),\n",
    "    StructField('value', DoubleType(), True)\n",
    "])\n",
    "\n",
    "df_climate_dmi = spark.createDataFrame([], schema)\n",
    "\n",
    "# Fetching data from dmi\n",
    "url = \"https://dmigw.govcloud.dk/v2/metObs/collections/observation/items\"\n",
    "parameterIds = [\"sun_last1h_glob\",\"temp_mean_past1h\",\"temp_soil_mean_past1h\",'sun_last1h_glob']\n",
    "bbox=\"12.3,55.6,12.7,56.0\"\n",
    "period='latest-day'\n",
    "limit=1000\n",
    "secret_key=secrets[\"metObs-api-key\"]\n",
    "\n",
    "for i in parameterIds:    \n",
    "    data = extract_dmi_metObs(i,bbox,period,limit,url,secret_key)\n",
    "    features = data.get('features')\n",
    "    records = [item['properties'] for item in features]\n",
    "    temp_df = spark.createDataFrame(records, schema)\n",
    "    df_climate_dmi = df_climate_dmi.union(temp_df)\n",
    "\n",
    "df_climate_dmi = df_climate_dmi.withColumn(\"ingestion_timestamp\", current_timestamp())\n",
    "df_climate_dmi.write.mode('overwrite').partitionBy(\"ingestion_timestamp\").parquet(f'{BRONZE_DIR}/daily_extract/')\n"
   ]
  },
  {
   "cell_type": "code",
   "execution_count": 0,
   "metadata": {
    "application/vnd.databricks.v1+cell": {
     "cellMetadata": {
      "byteLimit": 2048000,
      "rowLimit": 10000
     },
     "inputWidgets": {},
     "nuid": "ce9db1f2-5954-4e1c-98ef-40e88302ca12",
     "showTitle": false,
     "tableResultSettingsMap": {},
     "title": ""
    }
   },
   "outputs": [],
   "source": [
    "%fs\n",
    "ls 'dbfs:/mnt/bronze/daily_extract'"
   ]
  }
 ],
 "metadata": {
  "application/vnd.databricks.v1+notebook": {
   "computePreferences": null,
   "dashboards": [],
   "environmentMetadata": {
    "base_environment": "",
    "environment_version": "2"
   },
   "language": "python",
   "notebookMetadata": {
    "mostRecentlyExecutedCommandWithImplicitDF": {
     "commandId": 3246300889709229,
     "dataframes": [
      "_sqldf"
     ]
    },
    "pythonIndentUnit": 4
   },
   "notebookName": "extract-dmi-climate",
   "widgets": {}
  },
  "language_info": {
   "name": "python"
  }
 },
 "nbformat": 4,
 "nbformat_minor": 0
}

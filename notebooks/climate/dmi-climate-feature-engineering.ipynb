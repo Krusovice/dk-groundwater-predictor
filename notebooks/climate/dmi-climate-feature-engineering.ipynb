{
 "cells": [
  {
   "cell_type": "code",
   "execution_count": 0,
   "metadata": {
    "application/vnd.databricks.v1+cell": {
     "cellMetadata": {
      "byteLimit": 2048000,
      "rowLimit": 10000
     },
     "inputWidgets": {},
     "nuid": "8859c6a5-a98f-4d55-9305-a2d1eb224e80",
     "showTitle": false,
     "tableResultSettingsMap": {},
     "title": ""
    }
   },
   "outputs": [],
   "source": [
    "from src.utils.locate_filepaths import storage_filepaths\n",
    "from pyspark.sql.functions import avg\n",
    "paths = storage_filepaths()\n",
    "\n",
    "df_climate = spark.read.format(\"delta\").load(f\"{paths['silver']}/dmi_climate_data\")\n",
    "df_climate = df_climate.groupBy('observed_date','station_id').agg(avg('sun_last1h_glob').alias('daily_avg_sun'), avg('temp_mean_past1h').alias('daily_avg_air_temp'), avg('temp_soil_mean_past1h').alias('daily_avg_soil_temp'))\n",
    "display(df_climate)\n",
    "df_climate.write.format(\"delta\").mode(\"overwrite\").partitionBy('station_id').save(f\"{paths['gold']}/climate_for_ml/\")"
   ]
  }
 ],
 "metadata": {
  "application/vnd.databricks.v1+notebook": {
   "computePreferences": null,
   "dashboards": [],
   "environmentMetadata": {
    "base_environment": "",
    "environment_version": "2"
   },
   "inputWidgetPreferences": null,
   "language": "python",
   "notebookMetadata": {
    "pythonIndentUnit": 4
   },
   "notebookName": "dmi-climate-feature-engineering",
   "widgets": {}
  },
  "language_info": {
   "name": "python"
  }
 },
 "nbformat": 4,
 "nbformat_minor": 0
}

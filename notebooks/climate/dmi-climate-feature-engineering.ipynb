{
 "cells": [
  {
   "cell_type": "code",
   "execution_count": 0,
   "metadata": {
    "application/vnd.databricks.v1+cell": {
     "cellMetadata": {
      "byteLimit": 2048000,
      "rowLimit": 10000
     },
     "inputWidgets": {},
     "nuid": "8859c6a5-a98f-4d55-9305-a2d1eb224e80",
     "showTitle": false,
     "tableResultSettingsMap": {},
     "title": ""
    }
   },
   "outputs": [],
   "source": [
    "from src.utils.locate_filepaths import storage_filepaths\n",
    "from pyspark.sql.functions import avg, when, col\n",
    "\n",
    "\n",
    "# Loading data from silver layer.\n",
    "paths = storage_filepaths()\n",
    "df_climate = spark.read.format(\"delta\").load(f\"{paths['silver']}/dmi_climate_data\")\n",
    "\n",
    "# Grouping the features into average daily observations and all stations.\n",
    "# Averaging across astations as the covered area is not large (northern zealand + Copenhagen).\n",
    "df_climate = df_climate.groupBy('observed_date').agg(avg('sun_last1h_glob').alias('daily_avg_sun'), avg('temp_mean_past1h').alias('daily_avg_air_temp'), avg('temp_soil_mean_past1h').alias('daily_avg_soil_temp'), avg('precip_past1h').alias('daily_avg_rain'))\n",
    "\n",
    "# Substituting null values with -999\n",
    "# Adding not null columns for each feature column, so linear regression is able disregard columns with null values (-999).\n",
    "for c in df_climate.columns:\n",
    "    if c not in ['observed_date']:\n",
    "        df_climate = df_climate.withColumn(f\"{c}_notnull\", when(col(c).isNotNull(), 1).otherwise(0))\n",
    "df_climate = df_climate.fillna(-999)\n",
    "\n",
    "# Exporting to gold layer.\n",
    "df_climate.write.format(\"delta\").mode(\"overwrite\").option(\"overwriteSchema\", \"true\").save(f\"{paths['gold']}/climate_for_ml/\")\n",
    "#display(df_climate)"
   ]
  }
 ],
 "metadata": {
  "application/vnd.databricks.v1+notebook": {
   "computePreferences": null,
   "dashboards": [],
   "environmentMetadata": {
    "base_environment": "",
    "environment_version": "2"
   },
   "inputWidgetPreferences": null,
   "language": "python",
   "notebookMetadata": {
    "pythonIndentUnit": 4
   },
   "notebookName": "dmi-climate-feature-engineering",
   "widgets": {}
  },
  "language_info": {
   "name": "python"
  }
 },
 "nbformat": 4,
 "nbformat_minor": 0
}

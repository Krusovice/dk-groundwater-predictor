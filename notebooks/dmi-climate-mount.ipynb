{
 "cells": [
  {
   "cell_type": "code",
   "execution_count": 0,
   "metadata": {
    "application/vnd.databricks.v1+cell": {
     "cellMetadata": {
      "byteLimit": 2048000,
      "rowLimit": 10000
     },
     "inputWidgets": {},
     "nuid": "d3a27c56-3ecc-4863-8ea1-a1a76a8e8a95",
     "showTitle": false,
     "tableResultSettingsMap": {},
     "title": ""
    }
   },
   "outputs": [],
   "source": [
    "from src.utils.locate_filepaths import storage_filepaths\n",
    "\n",
    "project_scope = \"dmi-climate-scope\"\n",
    "client_id = dbutils.secrets.get(scope=project_scope, key=\"dmi-climate-client-id\")\n",
    "tenant_id = dbutils.secrets.get(scope=project_scope, key=\"dmi-climate-tenant-id\")\n",
    "client_secret = dbutils.secrets.get(scope=project_scope, key=\"dmi-climate-secret\")\n",
    "\n",
    "filepaths = storage_filepaths(client_id, tenant_id, client_secret)"
   ]
  }
 ],
 "metadata": {
  "application/vnd.databricks.v1+notebook": {
   "computePreferences": null,
   "dashboards": [],
   "environmentMetadata": {
    "base_environment": "",
    "environment_version": "2"
   },
   "language": "python",
   "notebookMetadata": {
    "mostRecentlyExecutedCommandWithImplicitDF": {
     "commandId": -1,
     "dataframes": [
      "_sqldf"
     ]
    },
    "pythonIndentUnit": 4
   },
   "notebookName": "dmi-climate-mount",
   "widgets": {}
  },
  "language_info": {
   "name": "python"
  }
 },
 "nbformat": 4,
 "nbformat_minor": 0
}

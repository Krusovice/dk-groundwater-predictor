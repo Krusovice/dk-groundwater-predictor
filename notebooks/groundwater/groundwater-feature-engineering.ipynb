{
 "cells": [
  {
   "cell_type": "code",
   "execution_count": 0,
   "metadata": {
    "application/vnd.databricks.v1+cell": {
     "cellMetadata": {
      "byteLimit": 2048000,
      "rowLimit": 10000
     },
     "inputWidgets": {},
     "nuid": "a2ebbac1-69ca-4797-9bb1-d3ca47d2205b",
     "showTitle": false,
     "tableResultSettingsMap": {},
     "title": ""
    }
   },
   "outputs": [],
   "source": [
    "from src.utils.locate_filepaths import storage_filepaths\n",
    "from pyspark.sql.functions import avg\n",
    "paths = storage_filepaths()\n",
    "\n",
    "df_groundwater = spark.read.format(\"delta\").load(f\"{paths['silver']}/geus_groundwater\")\n",
    "df_groundwater = df_groundwater.groupBy('observed_date','station_id','station_name').agg(avg(\"waterlevel\").alias(\"daily_avg_waterlevel\"))\n",
    "\n",
    "df_groundwater.write.format(\"delta\").mode(\"overwrite\").partitionBy('station_id').save(f\"{paths['gold']}/groundwater_for_ml/\")"
   ]
  }
 ],
 "metadata": {
  "application/vnd.databricks.v1+notebook": {
   "computePreferences": null,
   "dashboards": [],
   "environmentMetadata": {
    "base_environment": "",
    "environment_version": "2"
   },
   "inputWidgetPreferences": null,
   "language": "python",
   "notebookMetadata": {
    "pythonIndentUnit": 4
   },
   "notebookName": "groundwater-feature-engineering",
   "widgets": {}
  },
  "language_info": {
   "name": "python"
  }
 },
 "nbformat": 4,
 "nbformat_minor": 0
}

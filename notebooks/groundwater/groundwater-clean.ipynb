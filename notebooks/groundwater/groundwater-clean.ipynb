{
 "cells": [
  {
   "cell_type": "code",
   "execution_count": 0,
   "metadata": {
    "application/vnd.databricks.v1+cell": {
     "cellMetadata": {
      "byteLimit": 2048000,
      "rowLimit": 10000
     },
     "inputWidgets": {},
     "nuid": "c8c7c559-7bad-4cd4-88fd-dc2111abb45d",
     "showTitle": false,
     "tableResultSettingsMap": {},
     "title": ""
    }
   },
   "outputs": [],
   "source": [
    "from src.utils.locate_filepaths import storage_filepaths\n",
    "from src.etl.groundwater.clean import parse_station_file, load_groundwater_data, transform_groundwater_df\n",
    "import glob\n",
    "from pyspark.sql.types import StructType, StructField, StringType, FloatType, TimestampType,DoubleType\n",
    "from pyspark.sql.functions import round, col, lit, split, current_timestamp, to_date\n",
    "paths = storage_filepaths()\n",
    "\n",
    "dbutils.widgets.text(\"source\", \"\")\n",
    "source = dbutils.widgets.get(\"source\")\n",
    "\n",
    "files = dbutils.fs.ls(f\"{paths['bronze']}/geus_groundwater/\")\n"
   ]
  },
  {
   "cell_type": "code",
   "execution_count": 0,
   "metadata": {
    "application/vnd.databricks.v1+cell": {
     "cellMetadata": {
      "byteLimit": 2048000,
      "rowLimit": 10000
     },
     "inputWidgets": {},
     "nuid": "d596587a-04bb-46db-b2f8-36622c52cf2d",
     "showTitle": false,
     "tableResultSettingsMap": {},
     "title": ""
    }
   },
   "outputs": [],
   "source": [
    "# Create a dictionary with station_id as key and station location information as value\n",
    "station_file = [i.path for i in files if i.path.endswith('.txt')][0]\n",
    "\n",
    "station_dict = parse_station_file(station_file)"
   ]
  },
  {
   "cell_type": "code",
   "execution_count": 0,
   "metadata": {
    "application/vnd.databricks.v1+cell": {
     "cellMetadata": {
      "byteLimit": 2048000,
      "rowLimit": 10000
     },
     "inputWidgets": {},
     "nuid": "84387182-9238-41d8-bdec-8213f2671a84",
     "showTitle": false,
     "tableResultSettingsMap": {},
     "title": ""
    }
   },
   "outputs": [],
   "source": []
  },
  {
   "cell_type": "code",
   "execution_count": 0,
   "metadata": {
    "application/vnd.databricks.v1+cell": {
     "cellMetadata": {
      "byteLimit": 2048000,
      "rowLimit": 10000
     },
     "inputWidgets": {},
     "nuid": "15829b0d-7be9-4f39-b3dc-5223be55236a",
     "showTitle": false,
     "tableResultSettingsMap": {},
     "title": ""
    }
   },
   "outputs": [],
   "source": [
    "\n",
    "\n",
    "# Applying groundwater data and station data for each groundwater item\n",
    "groundwater_data_files = [i.path for i in files if i.path.endswith('.csv')]\n",
    "\n",
    "groundwater_df = load_groundwater_data(groundwater_data_files,station_dict)\n",
    "\n",
    "groundwater_df = transform_groundwater_df(groundwater_df)"
   ]
  },
  {
   "cell_type": "code",
   "execution_count": 0,
   "metadata": {
    "application/vnd.databricks.v1+cell": {
     "cellMetadata": {
      "byteLimit": 2048000,
      "rowLimit": 10000
     },
     "inputWidgets": {},
     "nuid": "c6120287-d0a8-474b-a497-7469ec5b2b65",
     "showTitle": false,
     "tableResultSettingsMap": {},
     "title": ""
    }
   },
   "outputs": [],
   "source": [
    "# Saving\n",
    "#df.write.format(\"delta\").mode(\"overwrite\").partitionBy('station_id').save(f\"{paths['silver']}/geus_groundwater/\")"
   ]
  }
 ],
 "metadata": {
  "application/vnd.databricks.v1+notebook": {
   "computePreferences": null,
   "dashboards": [],
   "environmentMetadata": {
    "base_environment": "",
    "environment_version": "2"
   },
   "inputWidgetPreferences": null,
   "language": "python",
   "notebookMetadata": {
    "pythonIndentUnit": 4
   },
   "notebookName": "groundwater-clean",
   "widgets": {
    "source": {
     "currentValue": "",
     "nuid": "c366d64c-066b-4296-9b63-dcd69bfa357e",
     "typedWidgetInfo": {
      "autoCreated": false,
      "defaultValue": "",
      "label": null,
      "name": "source",
      "options": {
       "widgetDisplayType": "Text",
       "validationRegex": null
      },
      "parameterDataType": "String"
     },
     "widgetInfo": {
      "widgetType": "text",
      "defaultValue": "",
      "label": null,
      "name": "source",
      "options": {
       "widgetType": "text",
       "autoCreated": null,
       "validationRegex": null
      }
     }
    }
   }
  },
  "language_info": {
   "name": "python"
  }
 },
 "nbformat": 4,
 "nbformat_minor": 0
}
